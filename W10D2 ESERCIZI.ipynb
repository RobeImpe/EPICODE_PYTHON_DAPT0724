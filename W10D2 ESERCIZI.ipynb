{
 "cells": [
  {
   "cell_type": "markdown",
   "id": "e1ebc7c3-4e42-4484-9a65-c7b2fa37cf51",
   "metadata": {},
   "source": [
    "ES01 Abbiamo una lista di liste: mat = [[0, 1, 2, 3, 4], [5, 6, 7, 8, 9], [10, 11, 12, 13, 14]] Che tipo di struttura dati o matematica potrebbe rappresentare? Notare che tutte le liste \"interne\" sono della stessa dimensione Come facciamo per accedere ad un elemento in particolare?"
   ]
  },
  {
   "cell_type": "code",
   "execution_count": 4,
   "id": "f09cf624-3d1a-43cd-a080-a28774d82d75",
   "metadata": {},
   "outputs": [
    {
     "name": "stdout",
     "output_type": "stream",
     "text": [
      "[[0, 1, 2, 3, 4], [5, 6, 7, 8, 9], [10, 11, 12, 13, 14]]\n"
     ]
    }
   ],
   "source": [
    "mat = [[0, 1, 2, 3, 4], [5, 6, 7, 8, 9], [10, 11, 12, 13, 14]]\n",
    "print(mat)"
   ]
  },
  {
   "cell_type": "code",
   "execution_count": 14,
   "id": "a473d263-9960-42ef-b781-eb598d2bbe99",
   "metadata": {},
   "outputs": [
    {
     "name": "stdout",
     "output_type": "stream",
     "text": [
      "7\n"
     ]
    }
   ],
   "source": [
    "elemento = mat[1][2]  # Restituisce 7\n",
    "print(elemento)"
   ]
  },
  {
   "cell_type": "code",
   "execution_count": 18,
   "id": "fca561de-d906-4028-8db1-bb2b994bac81",
   "metadata": {},
   "outputs": [
    {
     "name": "stdout",
     "output_type": "stream",
     "text": [
      "2\n"
     ]
    }
   ],
   "source": [
    "elemento=mat[0][2]\n",
    "print(elemento)"
   ]
  },
  {
   "cell_type": "markdown",
   "id": "8f1e226e-140f-4037-91c8-172400e06105",
   "metadata": {},
   "source": [
    "ES02\n",
    "Importiamo il modulo math e proviamo a usare le funzioni .sin() .cos() .factorial() e la variabile .pi la riconoscete?\n"
   ]
  },
  {
   "cell_type": "code",
   "execution_count": 21,
   "id": "febde383-72e0-44c3-b3cd-481c1a776b0f",
   "metadata": {},
   "outputs": [],
   "source": [
    "import math"
   ]
  },
  {
   "cell_type": "code",
   "execution_count": 27,
   "id": "d47611eb-81af-4c59-b17b-f1ba6c9740ea",
   "metadata": {},
   "outputs": [
    {
     "name": "stdout",
     "output_type": "stream",
     "text": [
      "-0.5440211108893698\n"
     ]
    }
   ],
   "source": [
    "sin=math.sin(10)\n",
    "print(sin)"
   ]
  },
  {
   "cell_type": "code",
   "execution_count": 29,
   "id": "bd3605ea-dfe6-4b53-926d-b1d686dd3dcd",
   "metadata": {},
   "outputs": [
    {
     "name": "stdout",
     "output_type": "stream",
     "text": [
      "-0.8390715290764524\n"
     ]
    }
   ],
   "source": [
    "cos=math.cos(10)\n",
    "print(cos)"
   ]
  },
  {
   "cell_type": "code",
   "execution_count": 31,
   "id": "4f0e6e8a-c0dc-4264-98b1-8d81c7b410cb",
   "metadata": {},
   "outputs": [
    {
     "name": "stdout",
     "output_type": "stream",
     "text": [
      "3628800\n"
     ]
    }
   ],
   "source": [
    "fact=math.factorial(10)\n",
    "print(fact)"
   ]
  },
  {
   "cell_type": "code",
   "execution_count": 37,
   "id": "73fe6174-6a9d-4f5e-9895-2d8392c98179",
   "metadata": {},
   "outputs": [
    {
     "name": "stdout",
     "output_type": "stream",
     "text": [
      "3.141592653589793\n"
     ]
    }
   ],
   "source": [
    "pi=math.pi\n",
    "print(pi)"
   ]
  },
  {
   "cell_type": "markdown",
   "id": "515fc7b7-5a8f-4a8e-b406-b163c6c71cfb",
   "metadata": {},
   "source": [
    "ES03 Proviamo a eseguire math.degrees(math.pi) Qual è e cosa significa il risultato? Per saperne di più su questa funzione possiamo usare help(math.degrees)\n"
   ]
  },
  {
   "cell_type": "code",
   "execution_count": 45,
   "id": "352a37cb-3143-45b0-8545-e356bdec4050",
   "metadata": {},
   "outputs": [
    {
     "name": "stdout",
     "output_type": "stream",
     "text": [
      "180.0\n"
     ]
    }
   ],
   "source": [
    "x= math.degrees(math.pi)\n",
    "print(x)\n"
   ]
  },
  {
   "cell_type": "markdown",
   "id": "884e37b3-a36a-41b0-b1f6-3bf10a9e9bb4",
   "metadata": {},
   "source": [
    "ES05L'azienda Object SpA ha creato una lista di quanti oggetti ha venduto ogni mese nell'ultimo anno: lst = [2000, 5500, 7200, 4320, 1280, 1900, 2500, 3900, 6410, 8150, 7100, 5350] trasformiamola in un array NumPy (casting): lst = np.array(lst) e rispondiamo alle domande del CEO della Object SpA: • qual è stata la vendita massima mensile? E quella minima? • quali sono le vendite mensili maggiori di 5000 oggetti? E quante ne sono? • quali sono le vendite minori di 3000 oggetti?"
   ]
  },
  {
   "cell_type": "code",
   "execution_count": 78,
   "id": "dd8a0959-c36a-43b5-a7f3-0be66c03a2bc",
   "metadata": {},
   "outputs": [
    {
     "name": "stdout",
     "output_type": "stream",
     "text": [
      "[2000 5500 7200 4320 1280 1900 2500 3900 6410 8150 7100 5350]\n"
     ]
    }
   ],
   "source": [
    "import numpy as np\n",
    "list = [2000, 5500, 7200, 4320, 1280, 1900, 2500, 3900, 6410, 8150, 7100, 5350]\n",
    "lyst = np.array(list)\n",
    "print(lyst)\n"
   ]
  },
  {
   "cell_type": "code",
   "execution_count": 80,
   "id": "441782f2-db5e-40d0-bcdd-221f55288e14",
   "metadata": {},
   "outputs": [
    {
     "name": "stdout",
     "output_type": "stream",
     "text": [
      "8150\n"
     ]
    }
   ],
   "source": [
    "print(lyst.max())"
   ]
  },
  {
   "cell_type": "code",
   "execution_count": 82,
   "id": "54318c3b-0b19-47c8-98bd-3195e159a000",
   "metadata": {},
   "outputs": [
    {
     "name": "stdout",
     "output_type": "stream",
     "text": [
      "1280\n"
     ]
    }
   ],
   "source": [
    "print(lyst.min())"
   ]
  },
  {
   "cell_type": "code",
   "execution_count": 84,
   "id": "11046f21-5bd9-4632-b4d8-26898058aeee",
   "metadata": {},
   "outputs": [
    {
     "name": "stdout",
     "output_type": "stream",
     "text": [
      "[False  True  True False False False False False  True  True  True  True]\n"
     ]
    }
   ],
   "source": [
    "filtro=lyst>5000\n",
    "\n",
    "print(filtro)"
   ]
  },
  {
   "cell_type": "code",
   "execution_count": 88,
   "id": "c1b8c9ac-a1d4-4fbf-804e-08c04194621e",
   "metadata": {},
   "outputs": [
    {
     "data": {
      "text/plain": [
       "array([5500, 7200, 6410, 8150, 7100, 5350])"
      ]
     },
     "execution_count": 88,
     "metadata": {},
     "output_type": "execute_result"
    }
   ],
   "source": [
    "list = [2000, 5500, 7200, 4320, 1280, 1900, 2500, 3900, 6410, 8150, 7100, 5350]\n",
    "lyst = np.array(list)\n",
    "filtro=lyst>5000\n",
    "lyst[filtro]"
   ]
  },
  {
   "cell_type": "code",
   "execution_count": 90,
   "id": "ef810b39-32f8-4a8b-a9e3-3d86e75b1b8d",
   "metadata": {},
   "outputs": [
    {
     "data": {
      "text/plain": [
       "array([2000, 1280, 1900, 2500])"
      ]
     },
     "execution_count": 90,
     "metadata": {},
     "output_type": "execute_result"
    }
   ],
   "source": [
    "list = [2000, 5500, 7200, 4320, 1280, 1900, 2500, 3900, 6410, 8150, 7100, 5350]\n",
    "lyst = np.array(list)\n",
    "filtro=lyst<3000\n",
    "lyst[filtro]"
   ]
  },
  {
   "cell_type": "code",
   "execution_count": 98,
   "id": "f27493e9-e662-402e-b3d1-3b2baf555237",
   "metadata": {},
   "outputs": [
    {
     "name": "stdout",
     "output_type": "stream",
     "text": [
      "4634.166666666667\n"
     ]
    }
   ],
   "source": [
    "list = [2000, 5500, 7200, 4320, 1280, 1900, 2500, 3900, 6410, 8150, 7100, 5350]\n",
    "lyst = np.array(list)\n",
    "filtro=np.mean(lyst)\n",
    "print(filtro)"
   ]
  },
  {
   "cell_type": "markdown",
   "id": "b4f91cb7-0833-4981-9954-6c381b7be856",
   "metadata": {},
   "source": [
    "ES06 \n",
    "Consideriamo il seguente dizionario: fatturati_dict = {1997: 12_000, 1998: 15_000, 1999: 20_000, 2000: 23_000, 2001: 25_000, 2002: 17_000, 2003: 14_000, 2004: 21_000} Consideriamo ora la seguente Series: fatturati_series = pd.Series([12_000, 15_000, 20_000, 23_000, 25_000, 17_000, 14_000, 21_000], index=range(1997, 2005)) Possiamo accedere alle stesse informazioni nello stesso modo: fatturati_dict[1997] fatturati_series[1997] Dunque qual è la differenza tra i due tipi di dato?\n"
   ]
  },
  {
   "cell_type": "code",
   "execution_count": 11,
   "id": "84f3f6f7-ec6e-4ad7-86dd-fb3aa9070143",
   "metadata": {},
   "outputs": [],
   "source": [
    "import pandas as pd"
   ]
  },
  {
   "cell_type": "code",
   "execution_count": 10,
   "id": "5d61b532-97d9-4ace-99c8-3d957308d937",
   "metadata": {},
   "outputs": [],
   "source": [
    "fatturati_dict = {1997: 12_000, 1998: 15_000, 1999: 20_000, 2000: 23_000, 2001: 25_000, 2002: 17_000, 2003: 14_000, 2004: 21_000}"
   ]
  },
  {
   "cell_type": "code",
   "execution_count": 13,
   "id": "c7264c91-d92c-4e35-b466-13ed273ccdba",
   "metadata": {},
   "outputs": [],
   "source": [
    "fatturati_series = pd.Series([12_000, 15_000, 20_000, 23_000, 25_000, 17_000, 14_000, 21_000],\n",
    "index=range(1997, 2005)) \n",
    "\n",
    "                             "
   ]
  },
  {
   "cell_type": "code",
   "execution_count": 18,
   "id": "c8c77f8c-f1e7-4ad8-9f1a-f2f8c81318ae",
   "metadata": {},
   "outputs": [
    {
     "name": "stdout",
     "output_type": "stream",
     "text": [
      "{1997: 12000, 1998: 15000, 1999: 20000, 2000: 23000, 2001: 25000, 2002: 17000, 2003: 14000, 2004: 21000}\n"
     ]
    }
   ],
   "source": [
    "print(fatturati_dict)"
   ]
  },
  {
   "cell_type": "code",
   "execution_count": 19,
   "id": "f5155f17-533d-456e-93f9-b94001acfd16",
   "metadata": {},
   "outputs": [
    {
     "name": "stdout",
     "output_type": "stream",
     "text": [
      "1997    12000\n",
      "1998    15000\n",
      "1999    20000\n",
      "2000    23000\n",
      "2001    25000\n",
      "2002    17000\n",
      "2003    14000\n",
      "2004    21000\n",
      "dtype: int64\n"
     ]
    },
    {
     "data": {
      "text/plain": [
       "(None,)"
      ]
     },
     "execution_count": 19,
     "metadata": {},
     "output_type": "execute_result"
    }
   ],
   "source": [
    "print(fatturati_series),\n",
    "\n",
    "  \n"
   ]
  },
  {
   "cell_type": "markdown",
   "id": "13ca7b87-30e7-4c84-97d0-82cf761e402b",
   "metadata": {},
   "source": [
    "es07 L'azienda Object SpA ha un dataset con tutti gli stipendi dei dipendenti, memorizzato in un ndarray: import numpy as np stipendi = np.array( [100, 200, 300, 400, 500, 600, 700, 800, 900, 1000] ) L'azienda ci chiede di raddoppiare tutti gli stipendi; facciamolo in due modi: • con un ciclo for • con il masking"
   ]
  },
  {
   "cell_type": "code",
   "execution_count": 28,
   "id": "493f21ef-ec11-485e-858e-2a34a6c536ea",
   "metadata": {},
   "outputs": [
    {
     "name": "stdout",
     "output_type": "stream",
     "text": [
      "[ 200  400  600  800 1000 1200 1400 1600 1800 2000]\n"
     ]
    }
   ],
   "source": [
    "import numpy as np\n",
    "stipendi = np.array([100, 200, 300, 400, 500, 600, 700, 800, 900, 1000])\n",
    "for i in range(len(stipendi)):\n",
    "    stipendi[i] = stipendi[i] * 2\n",
    "print(stipendi)\n"
   ]
  },
  {
   "cell_type": "code",
   "execution_count": 30,
   "id": "b58a5b29-5eaa-404d-9a2d-f1a5ef6b5f24",
   "metadata": {},
   "outputs": [
    {
     "name": "stdout",
     "output_type": "stream",
     "text": [
      "[ 200  400  600  800 1000 1200 1400 1600 1800 2000]\n"
     ]
    }
   ],
   "source": [
    "import numpy as np\n",
    "stipendi = np.array([100, 200, 300, 400, 500, 600, 700, 800, 900, 1000])\n",
    "stipendi_raddoppiati = stipendi * 2\n",
    "print(stipendi_raddoppiati)\n"
   ]
  },
  {
   "cell_type": "markdown",
   "id": "807eae99-c17d-471b-8987-d371fce43bbe",
   "metadata": {},
   "source": [
    "es08 Scrivere un programma che, data una lista di numeri, fornisca in output i tre numeri più grandi; gestire il caso in cui la lista sia più corta di tre, e quando uno o più dei numeri selezionati sono uguali\n"
   ]
  },
  {
   "cell_type": "code",
   "execution_count": null,
   "id": "b2ea7d88-bbbf-4511-96b8-d90c777291ba",
   "metadata": {},
   "outputs": [],
   "source": [
    "\n"
   ]
  }
 ],
 "metadata": {
  "kernelspec": {
   "display_name": "Python [conda env:base] *",
   "language": "python",
   "name": "conda-base-py"
  },
  "language_info": {
   "codemirror_mode": {
    "name": "ipython",
    "version": 3
   },
   "file_extension": ".py",
   "mimetype": "text/x-python",
   "name": "python",
   "nbconvert_exporter": "python",
   "pygments_lexer": "ipython3",
   "version": "3.12.7"
  }
 },
 "nbformat": 4,
 "nbformat_minor": 5
}
