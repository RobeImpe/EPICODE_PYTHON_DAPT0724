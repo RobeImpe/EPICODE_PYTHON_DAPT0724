{
 "cells": [
  {
   "cell_type": "code",
   "execution_count": 21,
   "id": "5707f4f0-c07d-45df-82c7-476e49fff43b",
   "metadata": {},
   "outputs": [
    {
     "name": "stdout",
     "output_type": "stream",
     "text": [
      "E\n",
      "p\n",
      "i\n",
      "c\n",
      "o\n",
      "d\n",
      "e\n",
      "finito\n"
     ]
    }
   ],
   "source": [
    "#es01\n",
    "nome_scuola = \"Epicode\"\n",
    "num = 0\n",
    "while num<len(nome_scuola):\n",
    "    print(nome_scuola[num])\n",
    "    num += 1\n",
    "print (\"finito\")"
   ]
  },
  {
   "cell_type": "code",
   "execution_count": 23,
   "id": "7b5cec1c-35d3-4b12-9d02-041424513cb3",
   "metadata": {},
   "outputs": [
    {
     "name": "stdout",
     "output_type": "stream",
     "text": [
      "0\n",
      "1\n",
      "2\n",
      "3\n",
      "4\n",
      "5\n",
      "6\n",
      "7\n",
      "8\n",
      "9\n",
      "10\n",
      "11\n",
      "12\n",
      "13\n",
      "14\n",
      "15\n",
      "16\n",
      "17\n",
      "18\n",
      "19\n",
      "20\n",
      "finito\n"
     ]
    }
   ],
   "source": [
    "#es02\n",
    "num = 0\n",
    "while num<=20:\n",
    "    print(num)\n",
    "    num += 1\n",
    "print (\"finito\")"
   ]
  },
  {
   "cell_type": "code",
   "execution_count": 35,
   "id": "85b7ca87-b58e-4878-9b44-ebd9c1164092",
   "metadata": {},
   "outputs": [
    {
     "name": "stdout",
     "output_type": "stream",
     "text": [
      "1\n",
      "2\n",
      "4\n",
      "8\n",
      "16\n",
      "32\n",
      "64\n",
      "128\n",
      "256\n",
      "512\n"
     ]
    }
   ],
   "source": [
    "#es03\n",
    "potenza = 0\n",
    "while potenza < 10:\n",
    "    num = 2** potenza\n",
    "    print(num)\n",
    "    potenza+=1"
   ]
  },
  {
   "cell_type": "code",
   "execution_count": 49,
   "id": "dd13c7e2-4436-4152-aded-247e744f6bf2",
   "metadata": {},
   "outputs": [
    {
     "name": "stdin",
     "output_type": "stream",
     "text": [
      "potenza 5\n"
     ]
    },
    {
     "name": "stdout",
     "output_type": "stream",
     "text": [
      "1\n",
      "2\n",
      "3\n",
      "4\n",
      "5\n"
     ]
    }
   ],
   "source": [
    "#es04\n",
    "potenza = int(input(\"potenza\"))\n",
    "ind= 0\n",
    "while ind < potenza:\n",
    "    num = 2**ind\n",
    "    ind+=1\n",
    "    print(ind)\n",
    "    "
   ]
  },
  {
   "cell_type": "code",
   "execution_count": 51,
   "id": "0d68b94e-767a-45e5-bc6d-41557a839820",
   "metadata": {},
   "outputs": [
    {
     "name": "stdout",
     "output_type": "stream",
     "text": [
      "1\n",
      "2\n",
      "4\n",
      "8\n",
      "16\n",
      "32\n",
      "64\n",
      "128\n",
      "256\n",
      "512\n",
      "1024\n",
      "2048\n",
      "4096\n",
      "8192\n",
      "16384\n"
     ]
    }
   ],
   "source": [
    "#es05\n",
    "I=0\n",
    "while(2**I)<25000:\n",
    "    print(2**I)\n",
    "    I+=1"
   ]
  },
  {
   "cell_type": "code",
   "execution_count": 55,
   "id": "a3b2a4d0-e6e8-4080-b898-83646581f765",
   "metadata": {},
   "outputs": [
    {
     "name": "stdin",
     "output_type": "stream",
     "text": [
      "inserisci una stringa di almeno 6 caratteri: arrivederci\n"
     ]
    },
    {
     "name": "stdout",
     "output_type": "stream",
     "text": [
      "arr ... rci\n"
     ]
    }
   ],
   "source": [
    "#es06\n",
    "str = input (\"inserisci una stringa di almeno 6 caratteri:\")\n",
    "while len(str)<6:\n",
    "    str=(\"non è abbastanza lunga:\")\n",
    "print(str[:3],\"...\",str[-3:])\n"
   ]
  },
  {
   "cell_type": "code",
   "execution_count": 87,
   "id": "500a6305-4377-44fe-8e25-0c6b5afb3171",
   "metadata": {},
   "outputs": [
    {
     "name": "stdin",
     "output_type": "stream",
     "text": [
      "inserisci numero intero: 150\n"
     ]
    },
    {
     "name": "stdout",
     "output_type": "stream",
     "text": [
      "fattori primi [2, 3, 5, 5]\n"
     ]
    }
   ],
   "source": [
    "#es07\n",
    "n = int(input(\"inserisci numero intero:\"))\n",
    "fattori=[]\n",
    "divisore=2\n",
    "while n > 1:\n",
    "    while n % divisore == 0:\n",
    "      fattori.append(divisore)\n",
    "      n=n/divisore\n",
    "    divisore+=1\n",
    "print(\"fattori primi\", fattori)\n",
    "\n"
   ]
  },
  {
   "cell_type": "code",
   "execution_count": 89,
   "id": "5be65630-3c11-4b13-8f88-0eaf4f52c0bb",
   "metadata": {},
   "outputs": [
    {
     "name": "stdout",
     "output_type": "stream",
     "text": [
      "E\n",
      "p\n",
      "i\n",
      "c\n",
      "o\n",
      "d\n",
      "e\n"
     ]
    }
   ],
   "source": [
    "#es08\n",
    "nome_scuola = \"Epicode\"\n",
    "for i in nome_scuola:\n",
    "    print(i)"
   ]
  },
  {
   "cell_type": "code",
   "execution_count": 101,
   "id": "6e66d02d-6eb2-4a66-b8dd-411f188f29d1",
   "metadata": {},
   "outputs": [
    {
     "name": "stdout",
     "output_type": "stream",
     "text": [
      "1\n",
      "2\n",
      "4\n",
      "8\n",
      "16\n",
      "32\n",
      "64\n",
      "128\n",
      "256\n",
      "512\n"
     ]
    }
   ],
   "source": [
    "#es09\n",
    "for esp in range(10):\n",
    "  print(2**esp)\n",
    "  esp+=1"
   ]
  },
  {
   "cell_type": "code",
   "execution_count": 113,
   "id": "22bded8e-fcf6-4901-8386-5c9de452c74e",
   "metadata": {},
   "outputs": [
    {
     "name": "stdin",
     "output_type": "stream",
     "text": [
      "numero di cui vuoi calcolare le potenze: 3\n",
      "quante potenze desideri calcolare? 3\n"
     ]
    },
    {
     "name": "stdout",
     "output_type": "stream",
     "text": [
      "[1, 3, 9]\n"
     ]
    }
   ],
   "source": [
    "#es10.1\n",
    "K= int(input(\"numero di cui vuoi calcolare le potenze:\"))\n",
    "N= int(input(\"quante potenze desideri calcolare?\"))\n",
    "esp=0\n",
    "potenze=[]\n",
    "while esp<N:\n",
    "    potenze.append(K**esp)\n",
    "    esp += 1\n",
    "print(potenze)\n",
    "\n"
   ]
  },
  {
   "cell_type": "code",
   "execution_count": 115,
   "id": "25ef295e-5b45-43e1-ae55-c53f2ab2e516",
   "metadata": {},
   "outputs": [
    {
     "name": "stdin",
     "output_type": "stream",
     "text": [
      "numero di cui vuoi calcolare le potenze: 3\n",
      "quante potenze desideri calcolare? 3\n"
     ]
    },
    {
     "name": "stdout",
     "output_type": "stream",
     "text": [
      "[1, 3, 9]\n"
     ]
    }
   ],
   "source": [
    "#es10.2\n",
    "K= int(input(\"numero di cui vuoi calcolare le potenze:\"))\n",
    "N= int(input(\"quante potenze desideri calcolare?\"))\n",
    "potenze=[]\n",
    "for esp in range(N):\n",
    "    potenze.append(K**esp)\n",
    "print(potenze)\n",
    "\n"
   ]
  },
  {
   "cell_type": "code",
   "execution_count": 117,
   "id": "835e8b81-8801-4b93-8f06-e3b17ac5b773",
   "metadata": {},
   "outputs": [
    {
     "name": "stdout",
     "output_type": "stream",
     "text": [
      "media: 70.0\n"
     ]
    }
   ],
   "source": [
    "#es11\n",
    "guadagni = [100, 90, 70, 40, 50, 80, 90, 120, 80, 20, 50, 50]\n",
    "totale=0\n",
    "for guadagno in guadagni:\n",
    "    totale+= guadagno\n",
    "print(\"media:\",totale/len(guadagni))"
   ]
  },
  {
   "cell_type": "code",
   "execution_count": 175,
   "id": "f77f32f7-c46c-4ef2-a2fb-246f3ebc12b7",
   "metadata": {},
   "outputs": [
    {
     "name": "stdout",
     "output_type": "stream",
     "text": [
      "Albergo 1\n",
      "Sedia 1\n",
      "Borgo 0\n",
      "Petalo 1\n",
      "Eremo 2\n",
      "Belvedere 4\n",
      "Semestre 3\n",
      "Esteta 2\n",
      "Sosta 0\n",
      "Orpello 1\n",
      "Abete 2\n",
      "Orologio 0\n",
      "Cesta 1\n",
      "Ermellino 2\n"
     ]
    }
   ],
   "source": [
    "#es12\n",
    "parole = [\"Albergo\", \"Sedia\", \"Borgo\", \"Petalo\", \"Eremo\", \"Belvedere\", \"Semestre\", \n",
    "          \"Esteta\", \"Sosta\", \"Orpello\", \"Abete\", \"Orologio\", \"Cesta\", \"Ermellino\"]\n",
    "for parola in parole:\n",
    "    print(parola,parola.lower().count(\"e\"))\n",
    "\n",
    "\n",
    "\n",
    "\n"
   ]
  },
  {
   "cell_type": "markdown",
   "id": "0dee318e-bdab-4894-88ab-274f3e93e5aa",
   "metadata": {},
   "source": [
    "esercizio 13  Creiamo un dizionario che assegni ad ogni proprietario la sua auto, sapendo che: • Ada guida una Punto • Ben guida una Multipla • Charlie guida una Golf • Debbie guida una 107 Stampiamo il dizionario per intero, e poi l'auto associata a Debbie."
   ]
  },
  {
   "cell_type": "code",
   "execution_count": 58,
   "id": "0e02f501-b5f3-40e8-b0b8-f75b06f261f0",
   "metadata": {},
   "outputs": [
    {
     "name": "stdout",
     "output_type": "stream",
     "text": [
      "{'Ada': 'Punto', 'Ben': 'Multipla', 'Charlie': 'Golf', 'Debbie': '107'}\n",
      "107\n"
     ]
    }
   ],
   "source": [
    "persona_auto = {\"Ada\": \"Punto\",\"Ben\": \"Multipla\", \"Charlie\": \"Golf\", \"Debbie\": \"107\"}\n",
    "\n",
    "\n",
    "print(persona_auto)\n",
    "\n",
    "\n",
    "print(persona_auto[\"Debbie\"])\n"
   ]
  },
  {
   "cell_type": "markdown",
   "id": "89a5c060-894f-4f0b-bc88-21590442acbd",
   "metadata": {},
   "source": [
    "esercizio 14 Abbiamo un dizionario che assegna ad ogni proprietario la sua auto: dizionario_auto = {\"Ada\": \"Punto\", \"Ben\": \"Multipla\", \"Charlie\": \"Golf\", \"Debbie\": \"107\"} Con un ciclo, e usando il metodo .values(), stampiamo a video tutte le auto che non sono una Multipla"
   ]
  },
  {
   "cell_type": "code",
   "execution_count": 71,
   "id": "0ccab92e-cd00-4ecc-ba78-6e207545ca49",
   "metadata": {},
   "outputs": [
    {
     "name": "stdout",
     "output_type": "stream",
     "text": [
      "Punto\n",
      "Golf\n",
      "107\n"
     ]
    }
   ],
   "source": [
    "persona_auto={\"Ada\":\"Punto\",\"Ben\":\"Multipla\",\"Charlie\":\"Golf\",\"Debbie\":\"107\"}\n",
    "for auto in persona_auto.values():\n",
    "    if auto != \"Multipla\":\n",
    "        print(auto)"
   ]
  },
  {
   "cell_type": "markdown",
   "id": "4c8e581b-5eb6-42d8-9425-1dcb78fa4621",
   "metadata": {},
   "source": [
    "esercizio 15\n",
    "Abbiamo due dizionari che assegnano ad ogni proprietario la propria auto: dizionario_auto = {\"Ada\": \"Punto\", \"Ben\": \"Multipla\", \"Charlie\": \"Golf\", \"Debbie\": \"107\", \"Emily\": \"A1\"} nuovi_proprietari = {\"Ben\": \"Polo\", \"Fred\": \"Octavia\", \"Grace\": \"Yaris\", \"Hugh\": \"Clio\"} Aggiornare il dizionario dizionario_auto con i dati contenuti in nuovi_proprietari e stamparlo. Cosa è successo a Ben?"
   ]
  },
  {
   "cell_type": "code",
   "execution_count": 91,
   "id": "651ff912-fe2f-4569-b54b-89f3667d8961",
   "metadata": {},
   "outputs": [
    {
     "name": "stdout",
     "output_type": "stream",
     "text": [
      "{'Ada': 'Punto', 'Ben': 'Multipla', 'Charlie': 'Golf', 'Debbie': '107', 'Emily': 'A1'}\n",
      "{'Ada': 'Punto', 'Ben': 'Polo', 'Charlie': 'Golf', 'Debbie': '107', 'Emily': 'A1', 'Fred': 'Octavia', 'Grace': 'Yaris', 'Hugh': 'Clio'}\n"
     ]
    }
   ],
   "source": [
    "dizionario_auto = {\"Ada\": \"Punto\", \"Ben\": \"Multipla\", \"Charlie\": \"Golf\", \"Debbie\": \"107\", \"Emily\": \"A1\"}\n",
    "print(dizionario_auto)\n",
    "nuovi_proprietari = {\"Ben\": \"Polo\", \"Fred\": \"Octavia\", \"Grace\": \"Yaris\", \"Hugh\": \"Clio\"} \n",
    "dizionario_auto.update(nuovi_proprietari)\n",
    "print(dizionario_auto)"
   ]
  },
  {
   "cell_type": "code",
   "execution_count": null,
   "id": "54470380-e7ba-42d0-818f-91c16a8633b9",
   "metadata": {},
   "outputs": [],
   "source": []
  }
 ],
 "metadata": {
  "kernelspec": {
   "display_name": "Python [conda env:base] *",
   "language": "python",
   "name": "conda-base-py"
  },
  "language_info": {
   "codemirror_mode": {
    "name": "ipython",
    "version": 3
   },
   "file_extension": ".py",
   "mimetype": "text/x-python",
   "name": "python",
   "nbconvert_exporter": "python",
   "pygments_lexer": "ipython3",
   "version": "3.12.7"
  }
 },
 "nbformat": 4,
 "nbformat_minor": 5
}
