{
 "cells": [
  {
   "cell_type": "markdown",
   "id": "dd922807-e295-4aa3-8431-c60ebd0b21a8",
   "metadata": {},
   "source": [
    "##### Il committente richiede di avere un report su casi e vaccinazioni in diverse aree del mondo; a tal fine, richiede di utilizzare il dataset, curato da Our World in Data, all'indirizzo https://github.com/owid/covid-19-data/tree/master/public/data alla voce \" !  Download our complete COVID-19 dataset\" scaricare il dataset nel formato che si preferisce"
   ]
  },
  {
   "cell_type": "markdown",
   "id": "c108cf0b-81db-4fa2-b424-ed4848302295",
   "metadata": {
    "jp-MarkdownHeadingCollapsed": true
   },
   "source": [
    "####  Importo il file csv"
   ]
  },
  {
   "cell_type": "code",
   "execution_count": 2,
   "id": "d0f98fca-4e4f-4c0d-a1cd-724544fa1037",
   "metadata": {},
   "outputs": [],
   "source": [
    "import pandas as pd\n",
    "df = pd.read_csv('owid-covid-data.csv')\n"
   ]
  },
  {
   "cell_type": "markdown",
   "id": "e779b252-3a3e-4e71-9226-28fb38a129e1",
   "metadata": {},
   "source": [
    "####  1. Si richiede di verificare le dimensioni del dataset e i relativi metadati"
   ]
  },
  {
   "cell_type": "code",
   "execution_count": 4,
   "id": "d5711835-08ce-4a7f-91ae-d86f1adb6276",
   "metadata": {},
   "outputs": [
    {
     "data": {
      "text/plain": [
       "(429435, 67)"
      ]
     },
     "execution_count": 4,
     "metadata": {},
     "output_type": "execute_result"
    }
   ],
   "source": [
    "df.shape"
   ]
  },
  {
   "cell_type": "code",
   "execution_count": 6,
   "id": "2f8fc765-26f0-42e9-afa7-b6d5b75e95cf",
   "metadata": {},
   "outputs": [
    {
     "data": {
      "text/plain": [
       "Index(['iso_code', 'continent', 'location', 'date', 'total_cases', 'new_cases',\n",
       "       'new_cases_smoothed', 'total_deaths', 'new_deaths',\n",
       "       'new_deaths_smoothed', 'total_cases_per_million',\n",
       "       'new_cases_per_million', 'new_cases_smoothed_per_million',\n",
       "       'total_deaths_per_million', 'new_deaths_per_million',\n",
       "       'new_deaths_smoothed_per_million', 'reproduction_rate', 'icu_patients',\n",
       "       'icu_patients_per_million', 'hosp_patients',\n",
       "       'hosp_patients_per_million', 'weekly_icu_admissions',\n",
       "       'weekly_icu_admissions_per_million', 'weekly_hosp_admissions',\n",
       "       'weekly_hosp_admissions_per_million', 'total_tests', 'new_tests',\n",
       "       'total_tests_per_thousand', 'new_tests_per_thousand',\n",
       "       'new_tests_smoothed', 'new_tests_smoothed_per_thousand',\n",
       "       'positive_rate', 'tests_per_case', 'tests_units', 'total_vaccinations',\n",
       "       'people_vaccinated', 'people_fully_vaccinated', 'total_boosters',\n",
       "       'new_vaccinations', 'new_vaccinations_smoothed',\n",
       "       'total_vaccinations_per_hundred', 'people_vaccinated_per_hundred',\n",
       "       'people_fully_vaccinated_per_hundred', 'total_boosters_per_hundred',\n",
       "       'new_vaccinations_smoothed_per_million',\n",
       "       'new_people_vaccinated_smoothed',\n",
       "       'new_people_vaccinated_smoothed_per_hundred', 'stringency_index',\n",
       "       'population_density', 'median_age', 'aged_65_older', 'aged_70_older',\n",
       "       'gdp_per_capita', 'extreme_poverty', 'cardiovasc_death_rate',\n",
       "       'diabetes_prevalence', 'female_smokers', 'male_smokers',\n",
       "       'handwashing_facilities', 'hospital_beds_per_thousand',\n",
       "       'life_expectancy', 'human_development_index', 'population',\n",
       "       'excess_mortality_cumulative_absolute', 'excess_mortality_cumulative',\n",
       "       'excess_mortality', 'excess_mortality_cumulative_per_million'],\n",
       "      dtype='object')"
      ]
     },
     "execution_count": 6,
     "metadata": {},
     "output_type": "execute_result"
    }
   ],
   "source": [
    "df.columns"
   ]
  },
  {
   "cell_type": "code",
   "execution_count": 8,
   "id": "624dd527-9ded-4fb7-92cd-650fd15f6d7b",
   "metadata": {},
   "outputs": [
    {
     "name": "stdout",
     "output_type": "stream",
     "text": [
      "<class 'pandas.core.frame.DataFrame'>\n",
      "RangeIndex: 429435 entries, 0 to 429434\n",
      "Data columns (total 67 columns):\n",
      " #   Column                                      Non-Null Count   Dtype  \n",
      "---  ------                                      --------------   -----  \n",
      " 0   iso_code                                    429435 non-null  object \n",
      " 1   continent                                   402910 non-null  object \n",
      " 2   location                                    429435 non-null  object \n",
      " 3   date                                        429435 non-null  object \n",
      " 4   total_cases                                 411804 non-null  float64\n",
      " 5   new_cases                                   410159 non-null  float64\n",
      " 6   new_cases_smoothed                          408929 non-null  float64\n",
      " 7   total_deaths                                411804 non-null  float64\n",
      " 8   new_deaths                                  410608 non-null  float64\n",
      " 9   new_deaths_smoothed                         409378 non-null  float64\n",
      " 10  total_cases_per_million                     411804 non-null  float64\n",
      " 11  new_cases_per_million                       410159 non-null  float64\n",
      " 12  new_cases_smoothed_per_million              408929 non-null  float64\n",
      " 13  total_deaths_per_million                    411804 non-null  float64\n",
      " 14  new_deaths_per_million                      410608 non-null  float64\n",
      " 15  new_deaths_smoothed_per_million             409378 non-null  float64\n",
      " 16  reproduction_rate                           184817 non-null  float64\n",
      " 17  icu_patients                                39116 non-null   float64\n",
      " 18  icu_patients_per_million                    39116 non-null   float64\n",
      " 19  hosp_patients                               40656 non-null   float64\n",
      " 20  hosp_patients_per_million                   40656 non-null   float64\n",
      " 21  weekly_icu_admissions                       10993 non-null   float64\n",
      " 22  weekly_icu_admissions_per_million           10993 non-null   float64\n",
      " 23  weekly_hosp_admissions                      24497 non-null   float64\n",
      " 24  weekly_hosp_admissions_per_million          24497 non-null   float64\n",
      " 25  total_tests                                 79387 non-null   float64\n",
      " 26  new_tests                                   75403 non-null   float64\n",
      " 27  total_tests_per_thousand                    79387 non-null   float64\n",
      " 28  new_tests_per_thousand                      75403 non-null   float64\n",
      " 29  new_tests_smoothed                          103965 non-null  float64\n",
      " 30  new_tests_smoothed_per_thousand             103965 non-null  float64\n",
      " 31  positive_rate                               95927 non-null   float64\n",
      " 32  tests_per_case                              94348 non-null   float64\n",
      " 33  tests_units                                 106788 non-null  object \n",
      " 34  total_vaccinations                          85417 non-null   float64\n",
      " 35  people_vaccinated                           81132 non-null   float64\n",
      " 36  people_fully_vaccinated                     78061 non-null   float64\n",
      " 37  total_boosters                              53600 non-null   float64\n",
      " 38  new_vaccinations                            70971 non-null   float64\n",
      " 39  new_vaccinations_smoothed                   195029 non-null  float64\n",
      " 40  total_vaccinations_per_hundred              85417 non-null   float64\n",
      " 41  people_vaccinated_per_hundred               81132 non-null   float64\n",
      " 42  people_fully_vaccinated_per_hundred         78061 non-null   float64\n",
      " 43  total_boosters_per_hundred                  53600 non-null   float64\n",
      " 44  new_vaccinations_smoothed_per_million       195029 non-null  float64\n",
      " 45  new_people_vaccinated_smoothed              192177 non-null  float64\n",
      " 46  new_people_vaccinated_smoothed_per_hundred  192177 non-null  float64\n",
      " 47  stringency_index                            196190 non-null  float64\n",
      " 48  population_density                          360492 non-null  float64\n",
      " 49  median_age                                  334663 non-null  float64\n",
      " 50  aged_65_older                               323270 non-null  float64\n",
      " 51  aged_70_older                               331315 non-null  float64\n",
      " 52  gdp_per_capita                              328292 non-null  float64\n",
      " 53  extreme_poverty                             211996 non-null  float64\n",
      " 54  cardiovasc_death_rate                       328865 non-null  float64\n",
      " 55  diabetes_prevalence                         345911 non-null  float64\n",
      " 56  female_smokers                              247165 non-null  float64\n",
      " 57  male_smokers                                243817 non-null  float64\n",
      " 58  handwashing_facilities                      161741 non-null  float64\n",
      " 59  hospital_beds_per_thousand                  290689 non-null  float64\n",
      " 60  life_expectancy                             390299 non-null  float64\n",
      " 61  human_development_index                     319127 non-null  float64\n",
      " 62  population                                  429435 non-null  int64  \n",
      " 63  excess_mortality_cumulative_absolute        13411 non-null   float64\n",
      " 64  excess_mortality_cumulative                 13411 non-null   float64\n",
      " 65  excess_mortality                            13411 non-null   float64\n",
      " 66  excess_mortality_cumulative_per_million     13411 non-null   float64\n",
      "dtypes: float64(61), int64(1), object(5)\n",
      "memory usage: 219.5+ MB\n"
     ]
    }
   ],
   "source": [
    "df.info()"
   ]
  },
  {
   "cell_type": "markdown",
   "id": "279ff316-12e7-4ef3-8c59-8085b07b9b0a",
   "metadata": {},
   "source": [
    "Non è richiesto espressamente dalla traccia ma cerco la \"descrizione\" delle colonne numeriche "
   ]
  },
  {
   "cell_type": "code",
   "execution_count": 17,
   "id": "cd63ea41-d245-4e83-a9ad-baad5f419b38",
   "metadata": {},
   "outputs": [
    {
     "data": {
      "text/html": [
       "<div>\n",
       "<style scoped>\n",
       "    .dataframe tbody tr th:only-of-type {\n",
       "        vertical-align: middle;\n",
       "    }\n",
       "\n",
       "    .dataframe tbody tr th {\n",
       "        vertical-align: top;\n",
       "    }\n",
       "\n",
       "    .dataframe thead th {\n",
       "        text-align: right;\n",
       "    }\n",
       "</style>\n",
       "<table border=\"1\" class=\"dataframe\">\n",
       "  <thead>\n",
       "    <tr style=\"text-align: right;\">\n",
       "      <th></th>\n",
       "      <th>total_cases</th>\n",
       "      <th>new_cases</th>\n",
       "      <th>new_cases_smoothed</th>\n",
       "      <th>total_deaths</th>\n",
       "      <th>new_deaths</th>\n",
       "      <th>new_deaths_smoothed</th>\n",
       "      <th>total_cases_per_million</th>\n",
       "      <th>new_cases_per_million</th>\n",
       "      <th>new_cases_smoothed_per_million</th>\n",
       "      <th>total_deaths_per_million</th>\n",
       "      <th>...</th>\n",
       "      <th>male_smokers</th>\n",
       "      <th>handwashing_facilities</th>\n",
       "      <th>hospital_beds_per_thousand</th>\n",
       "      <th>life_expectancy</th>\n",
       "      <th>human_development_index</th>\n",
       "      <th>population</th>\n",
       "      <th>excess_mortality_cumulative_absolute</th>\n",
       "      <th>excess_mortality_cumulative</th>\n",
       "      <th>excess_mortality</th>\n",
       "      <th>excess_mortality_cumulative_per_million</th>\n",
       "    </tr>\n",
       "  </thead>\n",
       "  <tbody>\n",
       "    <tr>\n",
       "      <th>count</th>\n",
       "      <td>4.118040e+05</td>\n",
       "      <td>4.101590e+05</td>\n",
       "      <td>4.089290e+05</td>\n",
       "      <td>4.118040e+05</td>\n",
       "      <td>410608.000000</td>\n",
       "      <td>409378.000000</td>\n",
       "      <td>411804.000000</td>\n",
       "      <td>410159.000000</td>\n",
       "      <td>408929.000000</td>\n",
       "      <td>411804.000000</td>\n",
       "      <td>...</td>\n",
       "      <td>243817.000000</td>\n",
       "      <td>161741.000000</td>\n",
       "      <td>290689.000000</td>\n",
       "      <td>390299.000000</td>\n",
       "      <td>319127.000000</td>\n",
       "      <td>4.294350e+05</td>\n",
       "      <td>1.341100e+04</td>\n",
       "      <td>13411.000000</td>\n",
       "      <td>13411.000000</td>\n",
       "      <td>13411.000000</td>\n",
       "    </tr>\n",
       "    <tr>\n",
       "      <th>mean</th>\n",
       "      <td>7.365292e+06</td>\n",
       "      <td>8.017360e+03</td>\n",
       "      <td>8.041026e+03</td>\n",
       "      <td>8.125957e+04</td>\n",
       "      <td>71.852139</td>\n",
       "      <td>72.060873</td>\n",
       "      <td>112096.199396</td>\n",
       "      <td>122.357074</td>\n",
       "      <td>122.713844</td>\n",
       "      <td>835.514313</td>\n",
       "      <td>...</td>\n",
       "      <td>33.097723</td>\n",
       "      <td>50.649264</td>\n",
       "      <td>3.106912</td>\n",
       "      <td>73.702098</td>\n",
       "      <td>0.722139</td>\n",
       "      <td>1.520336e+08</td>\n",
       "      <td>5.604765e+04</td>\n",
       "      <td>9.766431</td>\n",
       "      <td>10.925353</td>\n",
       "      <td>1772.666400</td>\n",
       "    </tr>\n",
       "    <tr>\n",
       "      <th>std</th>\n",
       "      <td>4.477582e+07</td>\n",
       "      <td>2.296649e+05</td>\n",
       "      <td>8.661611e+04</td>\n",
       "      <td>4.411901e+05</td>\n",
       "      <td>1368.322990</td>\n",
       "      <td>513.636567</td>\n",
       "      <td>162240.412419</td>\n",
       "      <td>1508.778583</td>\n",
       "      <td>559.701638</td>\n",
       "      <td>1134.932671</td>\n",
       "      <td>...</td>\n",
       "      <td>13.853948</td>\n",
       "      <td>31.905375</td>\n",
       "      <td>2.549205</td>\n",
       "      <td>7.387914</td>\n",
       "      <td>0.148903</td>\n",
       "      <td>6.975408e+08</td>\n",
       "      <td>1.568691e+05</td>\n",
       "      <td>12.040658</td>\n",
       "      <td>24.560706</td>\n",
       "      <td>1991.892769</td>\n",
       "    </tr>\n",
       "    <tr>\n",
       "      <th>min</th>\n",
       "      <td>0.000000e+00</td>\n",
       "      <td>0.000000e+00</td>\n",
       "      <td>0.000000e+00</td>\n",
       "      <td>0.000000e+00</td>\n",
       "      <td>0.000000</td>\n",
       "      <td>0.000000</td>\n",
       "      <td>0.000000</td>\n",
       "      <td>0.000000</td>\n",
       "      <td>0.000000</td>\n",
       "      <td>0.000000</td>\n",
       "      <td>...</td>\n",
       "      <td>7.700000</td>\n",
       "      <td>1.188000</td>\n",
       "      <td>0.100000</td>\n",
       "      <td>53.280000</td>\n",
       "      <td>0.394000</td>\n",
       "      <td>4.700000e+01</td>\n",
       "      <td>-3.772610e+04</td>\n",
       "      <td>-44.230000</td>\n",
       "      <td>-95.920000</td>\n",
       "      <td>-2936.453100</td>\n",
       "    </tr>\n",
       "    <tr>\n",
       "      <th>25%</th>\n",
       "      <td>6.280750e+03</td>\n",
       "      <td>0.000000e+00</td>\n",
       "      <td>0.000000e+00</td>\n",
       "      <td>4.300000e+01</td>\n",
       "      <td>0.000000</td>\n",
       "      <td>0.000000</td>\n",
       "      <td>1916.100500</td>\n",
       "      <td>0.000000</td>\n",
       "      <td>0.000000</td>\n",
       "      <td>24.568000</td>\n",
       "      <td>...</td>\n",
       "      <td>22.600000</td>\n",
       "      <td>20.859000</td>\n",
       "      <td>1.300000</td>\n",
       "      <td>69.500000</td>\n",
       "      <td>0.602000</td>\n",
       "      <td>5.237980e+05</td>\n",
       "      <td>1.765000e+02</td>\n",
       "      <td>2.060000</td>\n",
       "      <td>-1.500000</td>\n",
       "      <td>116.872242</td>\n",
       "    </tr>\n",
       "    <tr>\n",
       "      <th>50%</th>\n",
       "      <td>6.365300e+04</td>\n",
       "      <td>0.000000e+00</td>\n",
       "      <td>1.200000e+01</td>\n",
       "      <td>7.990000e+02</td>\n",
       "      <td>0.000000</td>\n",
       "      <td>0.000000</td>\n",
       "      <td>29145.475000</td>\n",
       "      <td>0.000000</td>\n",
       "      <td>2.794000</td>\n",
       "      <td>295.089000</td>\n",
       "      <td>...</td>\n",
       "      <td>33.100000</td>\n",
       "      <td>49.542000</td>\n",
       "      <td>2.500000</td>\n",
       "      <td>75.050000</td>\n",
       "      <td>0.740000</td>\n",
       "      <td>6.336393e+06</td>\n",
       "      <td>6.815199e+03</td>\n",
       "      <td>8.130000</td>\n",
       "      <td>5.660000</td>\n",
       "      <td>1270.801400</td>\n",
       "    </tr>\n",
       "    <tr>\n",
       "      <th>75%</th>\n",
       "      <td>7.582720e+05</td>\n",
       "      <td>0.000000e+00</td>\n",
       "      <td>3.132860e+02</td>\n",
       "      <td>9.574000e+03</td>\n",
       "      <td>0.000000</td>\n",
       "      <td>3.143000</td>\n",
       "      <td>156770.190000</td>\n",
       "      <td>0.000000</td>\n",
       "      <td>56.253000</td>\n",
       "      <td>1283.817000</td>\n",
       "      <td>...</td>\n",
       "      <td>41.500000</td>\n",
       "      <td>82.502000</td>\n",
       "      <td>4.210000</td>\n",
       "      <td>79.460000</td>\n",
       "      <td>0.829000</td>\n",
       "      <td>3.296952e+07</td>\n",
       "      <td>3.912804e+04</td>\n",
       "      <td>15.160000</td>\n",
       "      <td>15.575000</td>\n",
       "      <td>2883.024150</td>\n",
       "    </tr>\n",
       "    <tr>\n",
       "      <th>max</th>\n",
       "      <td>7.758668e+08</td>\n",
       "      <td>4.423623e+07</td>\n",
       "      <td>6.319461e+06</td>\n",
       "      <td>7.057132e+06</td>\n",
       "      <td>103719.000000</td>\n",
       "      <td>14817.000000</td>\n",
       "      <td>763598.600000</td>\n",
       "      <td>241758.230000</td>\n",
       "      <td>34536.890000</td>\n",
       "      <td>6601.110000</td>\n",
       "      <td>...</td>\n",
       "      <td>78.100000</td>\n",
       "      <td>100.000000</td>\n",
       "      <td>13.800000</td>\n",
       "      <td>86.750000</td>\n",
       "      <td>0.957000</td>\n",
       "      <td>7.975105e+09</td>\n",
       "      <td>1.349776e+06</td>\n",
       "      <td>78.080000</td>\n",
       "      <td>378.220000</td>\n",
       "      <td>10293.515000</td>\n",
       "    </tr>\n",
       "  </tbody>\n",
       "</table>\n",
       "<p>8 rows × 62 columns</p>\n",
       "</div>"
      ],
      "text/plain": [
       "        total_cases     new_cases  new_cases_smoothed  total_deaths  \\\n",
       "count  4.118040e+05  4.101590e+05        4.089290e+05  4.118040e+05   \n",
       "mean   7.365292e+06  8.017360e+03        8.041026e+03  8.125957e+04   \n",
       "std    4.477582e+07  2.296649e+05        8.661611e+04  4.411901e+05   \n",
       "min    0.000000e+00  0.000000e+00        0.000000e+00  0.000000e+00   \n",
       "25%    6.280750e+03  0.000000e+00        0.000000e+00  4.300000e+01   \n",
       "50%    6.365300e+04  0.000000e+00        1.200000e+01  7.990000e+02   \n",
       "75%    7.582720e+05  0.000000e+00        3.132860e+02  9.574000e+03   \n",
       "max    7.758668e+08  4.423623e+07        6.319461e+06  7.057132e+06   \n",
       "\n",
       "          new_deaths  new_deaths_smoothed  total_cases_per_million  \\\n",
       "count  410608.000000        409378.000000            411804.000000   \n",
       "mean       71.852139            72.060873            112096.199396   \n",
       "std      1368.322990           513.636567            162240.412419   \n",
       "min         0.000000             0.000000                 0.000000   \n",
       "25%         0.000000             0.000000              1916.100500   \n",
       "50%         0.000000             0.000000             29145.475000   \n",
       "75%         0.000000             3.143000            156770.190000   \n",
       "max    103719.000000         14817.000000            763598.600000   \n",
       "\n",
       "       new_cases_per_million  new_cases_smoothed_per_million  \\\n",
       "count          410159.000000                   408929.000000   \n",
       "mean              122.357074                      122.713844   \n",
       "std              1508.778583                      559.701638   \n",
       "min                 0.000000                        0.000000   \n",
       "25%                 0.000000                        0.000000   \n",
       "50%                 0.000000                        2.794000   \n",
       "75%                 0.000000                       56.253000   \n",
       "max            241758.230000                    34536.890000   \n",
       "\n",
       "       total_deaths_per_million  ...   male_smokers  handwashing_facilities  \\\n",
       "count             411804.000000  ...  243817.000000           161741.000000   \n",
       "mean                 835.514313  ...      33.097723               50.649264   \n",
       "std                 1134.932671  ...      13.853948               31.905375   \n",
       "min                    0.000000  ...       7.700000                1.188000   \n",
       "25%                   24.568000  ...      22.600000               20.859000   \n",
       "50%                  295.089000  ...      33.100000               49.542000   \n",
       "75%                 1283.817000  ...      41.500000               82.502000   \n",
       "max                 6601.110000  ...      78.100000              100.000000   \n",
       "\n",
       "       hospital_beds_per_thousand  life_expectancy  human_development_index  \\\n",
       "count               290689.000000    390299.000000            319127.000000   \n",
       "mean                     3.106912        73.702098                 0.722139   \n",
       "std                      2.549205         7.387914                 0.148903   \n",
       "min                      0.100000        53.280000                 0.394000   \n",
       "25%                      1.300000        69.500000                 0.602000   \n",
       "50%                      2.500000        75.050000                 0.740000   \n",
       "75%                      4.210000        79.460000                 0.829000   \n",
       "max                     13.800000        86.750000                 0.957000   \n",
       "\n",
       "         population  excess_mortality_cumulative_absolute  \\\n",
       "count  4.294350e+05                          1.341100e+04   \n",
       "mean   1.520336e+08                          5.604765e+04   \n",
       "std    6.975408e+08                          1.568691e+05   \n",
       "min    4.700000e+01                         -3.772610e+04   \n",
       "25%    5.237980e+05                          1.765000e+02   \n",
       "50%    6.336393e+06                          6.815199e+03   \n",
       "75%    3.296952e+07                          3.912804e+04   \n",
       "max    7.975105e+09                          1.349776e+06   \n",
       "\n",
       "       excess_mortality_cumulative  excess_mortality  \\\n",
       "count                 13411.000000      13411.000000   \n",
       "mean                      9.766431         10.925353   \n",
       "std                      12.040658         24.560706   \n",
       "min                     -44.230000        -95.920000   \n",
       "25%                       2.060000         -1.500000   \n",
       "50%                       8.130000          5.660000   \n",
       "75%                      15.160000         15.575000   \n",
       "max                      78.080000        378.220000   \n",
       "\n",
       "       excess_mortality_cumulative_per_million  \n",
       "count                             13411.000000  \n",
       "mean                               1772.666400  \n",
       "std                                1991.892769  \n",
       "min                               -2936.453100  \n",
       "25%                                 116.872242  \n",
       "50%                                1270.801400  \n",
       "75%                                2883.024150  \n",
       "max                               10293.515000  \n",
       "\n",
       "[8 rows x 62 columns]"
      ]
     },
     "execution_count": 17,
     "metadata": {},
     "output_type": "execute_result"
    }
   ],
   "source": [
    "df.describe()"
   ]
  },
  {
   "cell_type": "markdown",
   "id": "0f8c800b-7619-4edb-852d-2a04c104a800",
   "metadata": {},
   "source": [
    "####  2.Si chiede di trovare, per ogni continente:"
   ]
  },
  {
   "cell_type": "markdown",
   "id": "73941d13-330d-478a-a1f8-f86fbd83b13e",
   "metadata": {},
   "source": [
    "a. il numero di casi fin dall'inizio della pandemia"
   ]
  },
  {
   "cell_type": "code",
   "execution_count": 10,
   "id": "a0ae2ef0-2471-473b-bca5-839d672e7b83",
   "metadata": {},
   "outputs": [],
   "source": [
    "df['new_cases'] = df['new_cases'].fillna(0).astype('int64') "
   ]
  },
  {
   "cell_type": "code",
   "execution_count": 12,
   "id": "86661c5b-8ee6-4850-add3-f4496c193019",
   "metadata": {},
   "outputs": [],
   "source": [
    "casi_totali=df.groupby('continent').new_cases.sum()"
   ]
  },
  {
   "cell_type": "code",
   "execution_count": 14,
   "id": "d031e403-c668-458e-bf5c-9f87f087feeb",
   "metadata": {},
   "outputs": [
    {
     "name": "stdout",
     "output_type": "stream",
     "text": [
      "continent\n",
      "Africa            13146831\n",
      "Asia             301564180\n",
      "Europe           252916868\n",
      "North America    124492698\n",
      "Oceania           15003468\n",
      "South America     68811012\n",
      "Name: new_cases, dtype: int64\n"
     ]
    }
   ],
   "source": [
    "print(casi_totali)"
   ]
  },
  {
   "cell_type": "markdown",
   "id": "66703722-c7f7-451c-81da-1d6df303a20a",
   "metadata": {},
   "source": [
    "b. la percentuale rispetto al totale mondiale del numero di casi"
   ]
  },
  {
   "cell_type": "code",
   "execution_count": 18,
   "id": "3f1a489b-879e-4d92-bf33-1d1c394ed711",
   "metadata": {},
   "outputs": [],
   "source": [
    "pulizia_df = df.dropna(subset=['continent', 'new_cases'])\n",
    "#print(pulizia_df)"
   ]
  },
  {
   "cell_type": "code",
   "execution_count": 22,
   "id": "aff3a682-f146-48c0-abe6-8dd750e4fcd8",
   "metadata": {},
   "outputs": [
    {
     "name": "stdout",
     "output_type": "stream",
     "text": [
      "775935057\n"
     ]
    }
   ],
   "source": [
    "nuovi_casi_totali = pulizia_df['new_cases'].sum()\n",
    "print(nuovi_casi_totali)"
   ]
  },
  {
   "cell_type": "code",
   "execution_count": 28,
   "id": "d007e6a9-0027-4a33-9295-481cb84663b1",
   "metadata": {},
   "outputs": [
    {
     "name": "stdout",
     "output_type": "stream",
     "text": [
      "continent\n",
      "Africa            13146831\n",
      "Asia             301564180\n",
      "Europe           252916868\n",
      "North America    124492698\n",
      "Oceania           15003468\n",
      "South America     68811012\n",
      "Name: new_cases, dtype: int64\n"
     ]
    }
   ],
   "source": [
    "casi_per_continente = pulizia_df.groupby('continent')['new_cases'].sum()\n",
    "print(casi_per_continente)    #li avevo già calcolati !!! :D"
   ]
  },
  {
   "cell_type": "code",
   "execution_count": 34,
   "id": "d4884327-d92c-4a83-9392-b5e3402f2e5e",
   "metadata": {},
   "outputs": [],
   "source": [
    "percentuale = (casi_per_continente / nuovi_casi_totali) * 100"
   ]
  },
  {
   "cell_type": "code",
   "execution_count": 372,
   "id": "08be6a04-a25b-454c-8bc2-5ef51f36e9ff",
   "metadata": {},
   "outputs": [
    {
     "name": "stdout",
     "output_type": "stream",
     "text": [
      "continent\n",
      "Africa            1.694321\n",
      "Asia             38.864616\n",
      "Europe           32.595108\n",
      "North America    16.044216\n",
      "Oceania           1.933598\n",
      "South America     8.868141\n",
      "Name: new_cases, dtype: float64\n"
     ]
    }
   ],
   "source": [
    "print(percentuale)"
   ]
  },
  {
   "cell_type": "markdown",
   "id": "3aea04b7-be4f-4ab7-98fa-084b18db688f",
   "metadata": {
    "jp-MarkdownHeadingCollapsed": true
   },
   "source": [
    "####  3.Selezionare i dati relativi all'Italia nel 2022 e mostrare con dei grafici adeguati"
   ]
  },
  {
   "cell_type": "markdown",
   "id": "81006340-9557-4119-831f-7ca1f8be0eda",
   "metadata": {},
   "source": [
    "a.l'evoluzione del casi totali dall'inizio alla fine dell'anno"
   ]
  },
  {
   "cell_type": "code",
   "execution_count": 30,
   "id": "e513bd83-8ff8-41f6-95a4-603acf073968",
   "metadata": {},
   "outputs": [],
   "source": [
    "df['date'] = pd.to_datetime(df['date'])"
   ]
  },
  {
   "cell_type": "code",
   "execution_count": 32,
   "id": "6998ca41-3b3e-48ff-947b-61bfaf961fa5",
   "metadata": {},
   "outputs": [],
   "source": [
    "df_Italia = df[(df['location'] == 'Italy') & (df['date'].dt.year == 2022)]"
   ]
  },
  {
   "cell_type": "code",
   "execution_count": 34,
   "id": "dbeb0f6a-8419-4e73-b395-46a7127c62ff",
   "metadata": {},
   "outputs": [],
   "source": [
    "totale_casi_Italia_2022 = df_Italia['new_cases'].sum()"
   ]
  },
  {
   "cell_type": "code",
   "execution_count": 38,
   "id": "9460676b-b724-4603-a395-726f8d545f8c",
   "metadata": {},
   "outputs": [],
   "source": [
    "#print(totale_casi_Italia_2022) #ok è corretto "
   ]
  },
  {
   "cell_type": "code",
   "execution_count": 40,
   "id": "d08ef9ed-9622-4769-a033-96a7b69bf148",
   "metadata": {},
   "outputs": [
    {
     "name": "stdout",
     "output_type": "stream",
     "text": [
      "I casi totali in Italia nel 2022 sono: 19438072\n"
     ]
    }
   ],
   "source": [
    "print(f\"I casi totali in Italia nel 2022 sono: {totale_casi_Italia_2022}\")"
   ]
  },
  {
   "cell_type": "code",
   "execution_count": 53,
   "id": "da571f58-2356-44c8-bb29-d9ffb9459919",
   "metadata": {},
   "outputs": [],
   "source": [
    "import matplotlib.pyplot as plt"
   ]
  },
  {
   "cell_type": "markdown",
   "id": "07eab4fa-a987-4227-972a-4bbbae5f2b9b",
   "metadata": {},
   "source": [
    "grafico con valori della colonna casi totali registrati in Italia nel 2022"
   ]
  },
  {
   "cell_type": "code",
   "execution_count": 70,
   "id": "dc9320fd-a096-486a-be65-3e253baa44ae",
   "metadata": {},
   "outputs": [
    {
     "data": {
      "image/png": "[encoded data removed]",
      "text/plain": [
       "<Figure size 1000x600 with 1 Axes>"
      ]
     },
     "metadata": {},
     "output_type": "display_data"
    }
   ],
   "source": [
    "df_Italia = df_Italia[df_Italia['total_cases'] > 0]\n",
    "\n",
    "plt.figure(figsize=(10, 6))\n",
    "plt.plot(df_Italia['date'], df_Italia['total_cases'], label='Totale casi', color='black')\n",
    "\n",
    "\n",
    "plt.title(\"Evoluzione dei casi totali in Italia (2022)\")\n",
    "plt.xlabel(\"Data\")\n",
    "plt.ylabel(\"Totale casi\")\n",
    "plt.xticks(rotation=45)\n",
    "plt.grid(True)\n",
    "plt.tight_layout()\n",
    "plt.show()"
   ]
  },
  {
   "cell_type": "markdown",
   "id": "826b6355-ce81-4fbb-8ceb-e09d14ef2010",
   "metadata": {},
   "source": [
    "b.il numero di nuovi casi rispetto alla data; poiché i nuovi casi vengono registrati settimanalmente, filtrare via i dati che non hanno misurazioni"
   ]
  },
  {
   "cell_type": "markdown",
   "id": "df5925b4-28c6-467a-933b-65f71095c86c",
   "metadata": {},
   "source": [
    "grafico con valori della colonna nuovi casi registrati in Italia nel 2022"
   ]
  },
  {
   "cell_type": "code",
   "execution_count": 68,
   "id": "76fee160-6a87-49ed-9c1e-722ec922c6a7",
   "metadata": {},
   "outputs": [
    {
     "data": {
      "image/png": "[encoded data removed]",
      "text/plain": [
       "<Figure size 1000x600 with 1 Axes>"
      ]
     },
     "metadata": {},
     "output_type": "display_data"
    }
   ],
   "source": [
    "df_Italia = df_Italia[df_Italia['new_cases'] > 0]\n",
    "\n",
    "plt.figure(figsize=(10, 6))\n",
    "plt.plot(df_Italia['date'], df_Italia['new_cases'], label='Totale casi', color='black')\n",
    "\n",
    "\n",
    "plt.title(\"Evoluzione dei nuovi casi in Italia (2022)\")\n",
    "plt.xlabel(\"Data\")\n",
    "plt.ylabel(\"Totale casi\")\n",
    "plt.xticks(rotation=45)\n",
    "plt.grid(True)\n",
    "plt.tight_layout()\n",
    "plt.show()"
   ]
  },
  {
   "cell_type": "code",
   "execution_count": null,
   "id": "5c28d99f-97eb-4997-8a4e-356f6e7a5818",
   "metadata": {},
   "outputs": [],
   "source": []
  },
  {
   "cell_type": "markdown",
   "id": "9278d256-0eb1-49db-87fc-be44704c2857",
   "metadata": {},
   "source": [
    "####  4. Riguardo le nazioni di Italia, Germania e Francia mostrare in un boxplot la differenza tra queste nazioni riguardo il numero di pazienti in terapia intensiva (Intensive Care Unit, ICU) da maggio 2022 (incluso) ad aprile 2023 (incluso)"
   ]
  },
  {
   "cell_type": "code",
   "execution_count": 72,
   "id": "b3b549bd-8385-4f8f-9eb3-914bec8eaac7",
   "metadata": {},
   "outputs": [],
   "source": [
    "import pandas as pd\n",
    "import seaborn as sns\n",
    "import matplotlib.pyplot as plt"
   ]
  },
  {
   "cell_type": "code",
   "execution_count": 74,
   "id": "010bf39b-c451-49e3-821a-0dd1439fee9a",
   "metadata": {},
   "outputs": [],
   "source": [
    "nazioni= ['Italy', 'Germany', 'France']\n",
    "filtro_df= df[df['location'].isin(nazioni)]"
   ]
  },
  {
   "cell_type": "code",
   "execution_count": 76,
   "id": "625b78b1-67f2-484a-9c43-8f6041382f09",
   "metadata": {},
   "outputs": [],
   "source": [
    "filtro_df = filtro_df[(filtro_df['date'] >= '2022-05-01') & (filtro_df['date'] <= '2023-04-30')]"
   ]
  },
  {
   "cell_type": "code",
   "execution_count": 80,
   "id": "4e39b815-453a-4cee-be21-f30a1ba2dc15",
   "metadata": {},
   "outputs": [],
   "source": [
    "#display(filtro_df)"
   ]
  },
  {
   "cell_type": "code",
   "execution_count": 140,
   "id": "6cf9e7bc-222c-46c2-9138-103ecf9a582b",
   "metadata": {},
   "outputs": [
    {
     "data": {
      "image/png": "[encoded data removed]",
      "text/plain": [
       "<Figure size 1000x600 with 1 Axes>"
      ]
     },
     "metadata": {},
     "output_type": "display_data"
    }
   ],
   "source": [
    "plt.figure(figsize=(10, 6))\n",
    "#sns.boxplot(data=filtro_df, x='location', y='icu_patients', palette='Set2')  \n",
    "# mi da un avviso! Dal messaggio, ho trovato la modifica al codice \n",
    "sns.boxplot(data=filtro_df, x='location', y='icu_patients', hue='location', palette='Set1', dodge=False)\n",
    "\n",
    "\n",
    "plt.title(\"Distribuzione dei pazienti in Terapia Intensiva (ICU)(Maggio 2022 - Aprile 2023)\")\n",
    "plt.xlabel(\"Nazione\")\n",
    "plt.ylabel(\"Pazienti in Terapia Intensiva\")\n",
    "plt.tight_layout()\n",
    "\n",
    "\n",
    "plt.show()"
   ]
  },
  {
   "cell_type": "markdown",
   "id": "b0465d14-d535-404d-8c02-17c2e5c8993a",
   "metadata": {},
   "source": [
    "a. scrivere un breve commento a riguardo"
   ]
  },
  {
   "cell_type": "markdown",
   "id": "48df7b33-7a44-4334-b063-54434191a7e0",
   "metadata": {},
   "source": [
    "La mediana dei valori , dei pazienti in terapia intensiva, per l'Italia sono più bassi di Germania e Francia.\n",
    "Per l'Italia i valori di primo e terzo quartile sono più vicini alla mediana, e registriamo meno variazione del dato. \n",
    "Nel periodo preso in esame, in Italia abbiamo registrato meno casi in terapia intensiva rispetto alle altre due nazioni."
   ]
  },
  {
   "cell_type": "markdown",
   "id": "7d306229-591b-4d91-8f39-3bcaf4f83caf",
   "metadata": {},
   "source": [
    "#### 5.Riguardo le nazioni di Italia, Germania, Francia e Spagna in tutto il 2023:"
   ]
  },
  {
   "cell_type": "markdown",
   "id": "91f840e0-9b55-46b6-8773-d16717ce7ef8",
   "metadata": {},
   "source": [
    "a.mostrare la somma dei pazienti ospitalizzati per ognuna"
   ]
  },
  {
   "cell_type": "code",
   "execution_count": 93,
   "id": "1f1b4ace-7904-4914-8985-29560caf8d21",
   "metadata": {},
   "outputs": [],
   "source": [
    "nazioni_2 = ['Italy', 'Germany', 'France', 'Spain']\n",
    "filtro_2_df = df[df['location'].isin(nazioni_2)]\n",
    "filtro_2_df = filtro_2_df[filtro_2_df['date'].dt.year == 2023]"
   ]
  },
  {
   "cell_type": "code",
   "execution_count": 97,
   "id": "a4c61894-c8c1-45d2-abc5-5c6876bfb303",
   "metadata": {},
   "outputs": [],
   "source": [
    "#display(filtro_2_df)"
   ]
  },
  {
   "cell_type": "code",
   "execution_count": 99,
   "id": "5e96f88f-06e3-4b28-88fc-c832ea9eb0fd",
   "metadata": {},
   "outputs": [],
   "source": [
    "somma_ospedalizzati = filtro_2_df.groupby('location')['hosp_patients'].sum().reset_index()"
   ]
  },
  {
   "cell_type": "code",
   "execution_count": 101,
   "id": "e2b084ff-53cb-4e02-95e8-7a20a8a430d2",
   "metadata": {},
   "outputs": [
    {
     "data": {
      "text/html": [
       "<div>\n",
       "<style scoped>\n",
       "    .dataframe tbody tr th:only-of-type {\n",
       "        vertical-align: middle;\n",
       "    }\n",
       "\n",
       "    .dataframe tbody tr th {\n",
       "        vertical-align: top;\n",
       "    }\n",
       "\n",
       "    .dataframe thead th {\n",
       "        text-align: right;\n",
       "    }\n",
       "</style>\n",
       "<table border=\"1\" class=\"dataframe\">\n",
       "  <thead>\n",
       "    <tr style=\"text-align: right;\">\n",
       "      <th></th>\n",
       "      <th>location</th>\n",
       "      <th>hosp_patients</th>\n",
       "    </tr>\n",
       "  </thead>\n",
       "  <tbody>\n",
       "    <tr>\n",
       "      <th>0</th>\n",
       "      <td>France</td>\n",
       "      <td>1382574.0</td>\n",
       "    </tr>\n",
       "    <tr>\n",
       "      <th>1</th>\n",
       "      <td>Germany</td>\n",
       "      <td>0.0</td>\n",
       "    </tr>\n",
       "    <tr>\n",
       "      <th>2</th>\n",
       "      <td>Italy</td>\n",
       "      <td>1175272.0</td>\n",
       "    </tr>\n",
       "    <tr>\n",
       "      <th>3</th>\n",
       "      <td>Spain</td>\n",
       "      <td>354602.0</td>\n",
       "    </tr>\n",
       "  </tbody>\n",
       "</table>\n",
       "</div>"
      ],
      "text/plain": [
       "  location  hosp_patients\n",
       "0   France      1382574.0\n",
       "1  Germany            0.0\n",
       "2    Italy      1175272.0\n",
       "3    Spain       354602.0"
      ]
     },
     "metadata": {},
     "output_type": "display_data"
    }
   ],
   "source": [
    "display(somma_ospedalizzati)"
   ]
  },
  {
   "cell_type": "markdown",
   "id": "b57b2302-85bc-4a9b-b819-361195e810fb",
   "metadata": {},
   "source": [
    "b. se ci sono dati nulli,con un breve commento scrivere se può essere possibile gestirli tramite sostituzione o meno"
   ]
  },
  {
   "cell_type": "markdown",
   "id": "928bff61-656a-4555-ae23-f9451836b5ed",
   "metadata": {},
   "source": [
    "Per la Germania ci sono solo dati nulli per la colonna hosp_patients, non posso gestirli tramite sostituzione.\n",
    "Per avere un grafico \"leggibile\" elimino i dati della Germania dal Grafico."
   ]
  },
  {
   "cell_type": "code",
   "execution_count": 106,
   "id": "26a1870f-021b-4c7a-b298-4e21dff99bfb",
   "metadata": {},
   "outputs": [],
   "source": [
    "nazioni_3 = ['Italy', 'Germany', 'France', 'Spain']\n",
    "filtro_3_df = df[df['location'].isin(nazioni_3)]"
   ]
  },
  {
   "cell_type": "code",
   "execution_count": 108,
   "id": "ebacccf6-e2ed-47a8-842c-31d9e1b88c74",
   "metadata": {},
   "outputs": [],
   "source": [
    "filtro_3_df = filtro_3_df[filtro_3_df['date'].dt.year == 2023]\n",
    "\n",
    "filtro_3_df = filtro_3_df[filtro_3_df['hosp_patients'].notnull()]"
   ]
  },
  {
   "cell_type": "code",
   "execution_count": 110,
   "id": "865d0c1d-987d-4323-a9bd-62a3d8811f10",
   "metadata": {},
   "outputs": [],
   "source": [
    "somma_ospedalizzati = filtro_3_df.groupby('location')['hosp_patients'].sum().reset_index()"
   ]
  },
  {
   "cell_type": "code",
   "execution_count": 112,
   "id": "a570e60a-3053-4101-a1b3-23d41bfa67d0",
   "metadata": {},
   "outputs": [
    {
     "data": {
      "text/html": [
       "<div>\n",
       "<style scoped>\n",
       "    .dataframe tbody tr th:only-of-type {\n",
       "        vertical-align: middle;\n",
       "    }\n",
       "\n",
       "    .dataframe tbody tr th {\n",
       "        vertical-align: top;\n",
       "    }\n",
       "\n",
       "    .dataframe thead th {\n",
       "        text-align: right;\n",
       "    }\n",
       "</style>\n",
       "<table border=\"1\" class=\"dataframe\">\n",
       "  <thead>\n",
       "    <tr style=\"text-align: right;\">\n",
       "      <th></th>\n",
       "      <th>location</th>\n",
       "      <th>hosp_patients</th>\n",
       "    </tr>\n",
       "  </thead>\n",
       "  <tbody>\n",
       "    <tr>\n",
       "      <th>0</th>\n",
       "      <td>France</td>\n",
       "      <td>1382574.0</td>\n",
       "    </tr>\n",
       "    <tr>\n",
       "      <th>1</th>\n",
       "      <td>Italy</td>\n",
       "      <td>1175272.0</td>\n",
       "    </tr>\n",
       "    <tr>\n",
       "      <th>2</th>\n",
       "      <td>Spain</td>\n",
       "      <td>354602.0</td>\n",
       "    </tr>\n",
       "  </tbody>\n",
       "</table>\n",
       "</div>"
      ],
      "text/plain": [
       "  location  hosp_patients\n",
       "0   France      1382574.0\n",
       "1    Italy      1175272.0\n",
       "2    Spain       354602.0"
      ]
     },
     "metadata": {},
     "output_type": "display_data"
    }
   ],
   "source": [
    "display(somma_ospedalizzati)"
   ]
  },
  {
   "cell_type": "code",
   "execution_count": 136,
   "id": "eda3470b-41ca-490b-bbd0-d2d84af0a90e",
   "metadata": {},
   "outputs": [
    {
     "data": {
      "image/png": "[encoded data removed]",
      "text/plain": [
       "<Figure size 1000x500 with 1 Axes>"
      ]
     },
     "metadata": {},
     "output_type": "display_data"
    }
   ],
   "source": [
    "plt.figure(figsize=(10, 5))\n",
    "sns.barplot(data=filtro_3_df, y='location', x='hosp_patients', hue='location', palette='Set1', dodge=False)\n",
    "\n",
    "plt.title(\"Somma dei pazienti ospedalizzati(2023)\")\n",
    "plt.xlabel(\"Pazienti ospedalizzati\")\n",
    "plt.ylabel(\"Nazione\")\n",
    "plt.tight_layout()\n",
    "\n",
    "plt.show()\n"
   ]
  },
  {
   "cell_type": "code",
   "execution_count": null,
   "id": "533e6765-13ee-40ba-bc0a-2ab610852605",
   "metadata": {},
   "outputs": [],
   "source": []
  }
 ],
 "metadata": {
  "kernelspec": {
   "display_name": "Python [conda env:base] *",
   "language": "python",
   "name": "conda-base-py"
  },
  "language_info": {
   "codemirror_mode": {
    "name": "ipython",
    "version": 3
   },
   "file_extension": ".py",
   "mimetype": "text/x-python",
   "name": "python",
   "nbconvert_exporter": "python",
   "pygments_lexer": "ipython3",
   "version": "3.12.7"
  }
 },
 "nbformat": 4,
 "nbformat_minor": 5
}
