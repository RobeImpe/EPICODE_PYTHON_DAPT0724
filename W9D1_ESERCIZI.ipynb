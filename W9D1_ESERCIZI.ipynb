{
 "cells": [
  {
   "cell_type": "code",
   "execution_count": 14,
   "id": "2e0190f8-7f73-4e9f-aad1-f47e2b8c2d7e",
   "metadata": {},
   "outputs": [],
   "source": [
    "STUDENTI=(\"Alessandro\", \"Marco\", \"Luca\", \"Giovanni\", \"Matteo\", \"Andrea\", \"Francesco\", \n",
    "          \"Stefano\", \"Pietro\", \"Riccardo\", \"Davide\", \"Fabio\", \"Roberto\", \"Simone\", \n",
    "          \"Carlo\",\"Maria\", \"Giulia\", \"Laura\", \"Francesca\", \"Anna\", \"Sara\", \"Alessandra\",\n",
    "          \"Martina\", \"Claudia\", \"Silvia\", \"Laura\", \"Stefania\", \"Caterina\", \"Elena\", \"Beatrice\")\n"
   ]
  },
  {
   "cell_type": "code",
   "execution_count": 16,
   "id": "7265deca-13c6-4b55-af7c-8aa2bb4142af",
   "metadata": {},
   "outputs": [
    {
     "name": "stdout",
     "output_type": "stream",
     "text": [
      "('Alessandro', 'Marco', 'Luca', 'Giovanni', 'Matteo', 'Andrea', 'Francesco', 'Stefano', 'Pietro', 'Riccardo', 'Davide', 'Fabio', 'Roberto', 'Simone', 'Carlo', 'Maria', 'Giulia', 'Laura', 'Francesca', 'Anna', 'Sara', 'Alessandra', 'Martina', 'Claudia', 'Silvia', 'Laura', 'Stefania', 'Caterina', 'Elena', 'Beatrice')\n"
     ]
    }
   ],
   "source": [
    "print(STUDENTI)"
   ]
  },
  {
   "cell_type": "code",
   "execution_count": 20,
   "id": "00c7ad66-c4f1-403d-ad98-ca2e27131e3c",
   "metadata": {},
   "outputs": [],
   "source": [
    "NUOVI_STUDENTI =(\"Carletto\",\"Elsa\",\"Goku\")"
   ]
  },
  {
   "cell_type": "code",
   "execution_count": 22,
   "id": "ab5ce874-db0f-4a6b-9802-5aa0d397510d",
   "metadata": {},
   "outputs": [],
   "source": [
    "TUTTI_GLI_STUDENTI=STUDENTI+NUOVI_STUDENTI"
   ]
  },
  {
   "cell_type": "code",
   "execution_count": 24,
   "id": "1a53eec6-9593-4148-8885-25d491ba4434",
   "metadata": {},
   "outputs": [
    {
     "name": "stdout",
     "output_type": "stream",
     "text": [
      "('Alessandro', 'Marco', 'Luca', 'Giovanni', 'Matteo', 'Andrea', 'Francesco', 'Stefano', 'Pietro', 'Riccardo', 'Davide', 'Fabio', 'Roberto', 'Simone', 'Carlo', 'Maria', 'Giulia', 'Laura', 'Francesca', 'Anna', 'Sara', 'Alessandra', 'Martina', 'Claudia', 'Silvia', 'Laura', 'Stefania', 'Caterina', 'Elena', 'Beatrice', 'Carletto', 'Elsa', 'Goku')\n"
     ]
    }
   ],
   "source": [
    "print(TUTTI_GLI_STUDENTI)"
   ]
  },
  {
   "cell_type": "code",
   "execution_count": 26,
   "id": "2186e25e-c263-408b-9390-82469169faf3",
   "metadata": {},
   "outputs": [
    {
     "data": {
      "text/plain": [
       "tuple"
      ]
     },
     "execution_count": 26,
     "metadata": {},
     "output_type": "execute_result"
    }
   ],
   "source": [
    "type(TUTTI_GLI_STUDENTI)"
   ]
  },
  {
   "cell_type": "code",
   "execution_count": 58,
   "id": "d643318d-3374-49cb-adb8-3edd58ebf370",
   "metadata": {},
   "outputs": [],
   "source": [
    "SCUOLA= (\"Epicode\")"
   ]
  },
  {
   "cell_type": "code",
   "execution_count": 34,
   "id": "b2705be9-3bb5-4c4d-ad66-500dbd968242",
   "metadata": {},
   "outputs": [
    {
     "data": {
      "text/plain": [
       "str"
      ]
     },
     "execution_count": 34,
     "metadata": {},
     "output_type": "execute_result"
    }
   ],
   "source": [
    "type(SCUOLA)"
   ]
  },
  {
   "cell_type": "code",
   "execution_count": 36,
   "id": "6e7b27b5-5639-42d0-8fb1-cd481ebbec8c",
   "metadata": {},
   "outputs": [
    {
     "name": "stdout",
     "output_type": "stream",
     "text": [
      "Epicode\n"
     ]
    }
   ],
   "source": [
    "print(SCUOLA)"
   ]
  },
  {
   "cell_type": "code",
   "execution_count": null,
   "id": "adb38065-463a-4950-a05f-c44826aaca9f",
   "metadata": {},
   "outputs": [],
   "source": []
  },
  {
   "cell_type": "code",
   "execution_count": 38,
   "id": "7f128efe-99bc-4fea-ac0f-1495aa2eec54",
   "metadata": {},
   "outputs": [],
   "source": [
    "x=(10)"
   ]
  },
  {
   "cell_type": "code",
   "execution_count": 42,
   "id": "91a9d733-3b67-4d9b-b24d-4ef7f7a6f318",
   "metadata": {},
   "outputs": [],
   "source": [
    "INCREMENTO=(x+2)"
   ]
  },
  {
   "cell_type": "code",
   "execution_count": 44,
   "id": "e5930f40-2125-481d-af14-9a1e7577ff41",
   "metadata": {},
   "outputs": [],
   "source": [
    "MOLTIPLICAZIONE=(INCREMENTO*3)"
   ]
  },
  {
   "cell_type": "code",
   "execution_count": 48,
   "id": "94db9aed-a9ab-43d3-bd9a-7eda74ae52fe",
   "metadata": {},
   "outputs": [
    {
     "name": "stdout",
     "output_type": "stream",
     "text": [
      "12\n"
     ]
    }
   ],
   "source": [
    "print(INCREMENTO)"
   ]
  },
  {
   "cell_type": "code",
   "execution_count": 50,
   "id": "ead3d1b7-f622-4554-b207-6969ed3a945d",
   "metadata": {},
   "outputs": [
    {
     "name": "stdout",
     "output_type": "stream",
     "text": [
      "36\n"
     ]
    }
   ],
   "source": [
    "print(MOLTIPLICAZIONE)"
   ]
  },
  {
   "cell_type": "code",
   "execution_count": 157,
   "id": "98fb4ba0-125e-4808-a708-4be811aaebf9",
   "metadata": {},
   "outputs": [],
   "source": [
    "STR1 = (\"Windows\")\n",
    "STR2 = (\"Excel\")\n",
    "STR3 = (\"Powerpoint\")\n",
    "STR4 = (\"Word\")\n"
   ]
  },
  {
   "cell_type": "code",
   "execution_count": 159,
   "id": "54ed8ff9-db7e-4adf-b751-e8ff033bb27e",
   "metadata": {},
   "outputs": [
    {
     "name": "stdout",
     "output_type": "stream",
     "text": [
      "7 5 10 4\n"
     ]
    }
   ],
   "source": [
    "print(len(STR1),len(STR2),len(STR3),len(STR4))"
   ]
  },
  {
   "cell_type": "code",
   "execution_count": 138,
   "id": "a9c57584-8f55-45c7-aa6a-fd70865f02cd",
   "metadata": {},
   "outputs": [],
   "source": [
    "giorni_anno=(365)"
   ]
  },
  {
   "cell_type": "code",
   "execution_count": 84,
   "id": "86903525-49c5-4b11-8ca8-faa9e962f86b",
   "metadata": {},
   "outputs": [],
   "source": [
    "secondi_giorno=(60*60*24)"
   ]
  },
  {
   "cell_type": "code",
   "execution_count": 92,
   "id": "d2831c6c-04ca-4b1d-9ee5-e272e50ed4aa",
   "metadata": {},
   "outputs": [],
   "source": [
    "secondi_anno=(giorni_anno*secondi_giorno)"
   ]
  },
  {
   "cell_type": "code",
   "execution_count": 94,
   "id": "2e7d4e6c-72d7-441c-a21b-f0cee2abd4aa",
   "metadata": {},
   "outputs": [
    {
     "name": "stdout",
     "output_type": "stream",
     "text": [
      "31536000\n"
     ]
    }
   ],
   "source": [
    "print(secondi_anno)"
   ]
  },
  {
   "cell_type": "code",
   "execution_count": 96,
   "id": "90a51e17-3485-488f-8d84-a65329509a6b",
   "metadata": {},
   "outputs": [],
   "source": [
    "my_string = (\"I am studying Python\")"
   ]
  },
  {
   "cell_type": "code",
   "execution_count": 100,
   "id": "e34cc1df-6b33-43d1-bad9-e0e094758607",
   "metadata": {},
   "outputs": [
    {
     "data": {
      "text/plain": [
       "'I AM STUDYING PYTHON'"
      ]
     },
     "execution_count": 100,
     "metadata": {},
     "output_type": "execute_result"
    }
   ],
   "source": [
    "str.upper(my_string)\n"
   ]
  },
  {
   "cell_type": "code",
   "execution_count": 102,
   "id": "319de863-ff74-4358-9585-ed759bbfd11a",
   "metadata": {},
   "outputs": [
    {
     "data": {
      "text/plain": [
       "'i am studying python'"
      ]
     },
     "execution_count": 102,
     "metadata": {},
     "output_type": "execute_result"
    }
   ],
   "source": [
    "str.lower(my_string)"
   ]
  },
  {
   "cell_type": "code",
   "execution_count": 104,
   "id": "3e2b7e8f-d564-4124-823f-74139eaeb87c",
   "metadata": {},
   "outputs": [],
   "source": [
    "nuova_stringa=my_string.replace(\"Python\",\"Lot\")"
   ]
  },
  {
   "cell_type": "code",
   "execution_count": 106,
   "id": "2103e874-1b45-44f0-9fb1-cb67f509d936",
   "metadata": {},
   "outputs": [
    {
     "name": "stdout",
     "output_type": "stream",
     "text": [
      "I am studying Lot\n"
     ]
    }
   ],
   "source": [
    "print(nuova_stringa)"
   ]
  },
  {
   "cell_type": "code",
   "execution_count": 108,
   "id": "7bc8fd86-fc5a-44c3-ae4f-851e3fcd5fe6",
   "metadata": {},
   "outputs": [],
   "source": [
    "splitta=my_string.split(\" \")"
   ]
  },
  {
   "cell_type": "code",
   "execution_count": 171,
   "id": "55e306f7-1ed7-43bf-974d-4b7d27d01356",
   "metadata": {},
   "outputs": [
    {
     "name": "stdout",
     "output_type": "stream",
     "text": [
      "['I', 'am', 'studying', 'Python']\n"
     ]
    }
   ],
   "source": [
    "print(splitta)"
   ]
  },
  {
   "cell_type": "code",
   "execution_count": 177,
   "id": "d6ff1809-d6b4-4a7c-9d34-0b7c10ac07ac",
   "metadata": {},
   "outputs": [],
   "source": [
    "\n",
    "strippa=my_string.strip()"
   ]
  },
  {
   "cell_type": "code",
   "execution_count": 179,
   "id": "2315e793-e998-4130-bc07-cea1135a8506",
   "metadata": {},
   "outputs": [
    {
     "name": "stdout",
     "output_type": "stream",
     "text": [
      "I am studying Python\n"
     ]
    }
   ],
   "source": [
    "print(strippa)"
   ]
  },
  {
   "cell_type": "code",
   "execution_count": 181,
   "id": "f5de4dbe-0540-4fc1-a5e5-af30897d8aa4",
   "metadata": {},
   "outputs": [],
   "source": [
    "studenti = [\"Alex\", \"Bob\", \"Cindy\", \"Dan\", \"Emma\", \"Faith\", \"Grace\", \"Henry\"] \n",
    "corsi = [\"Cybersecurity\", \"Data Analyst\", \"Backend\", \"Frontend\", \"Data Analyst\", \"Backend\"]\n",
    "corsi.append (\"Frontend\")\n",
    "corsi.append (\"Cybersecurity\")\n"
   ]
  },
  {
   "cell_type": "code",
   "execution_count": 183,
   "id": "01cfd6d5-7a66-4ab2-a9dd-1131f3e3a399",
   "metadata": {},
   "outputs": [
    {
     "name": "stdout",
     "output_type": "stream",
     "text": [
      "['Cybersecurity', 'Data Analyst', 'Backend', 'Frontend', 'Data Analyst', 'Backend', 'Frontend', 'Cybersecurity']\n"
     ]
    }
   ],
   "source": [
    "print(corsi)"
   ]
  },
  {
   "cell_type": "code",
   "execution_count": null,
   "id": "3ad76de1-0a23-42e4-959b-7238f54a26ee",
   "metadata": {},
   "outputs": [],
   "source": []
  }
 ],
 "metadata": {
  "kernelspec": {
   "display_name": "Python [conda env:base] *",
   "language": "python",
   "name": "conda-base-py"
  },
  "language_info": {
   "codemirror_mode": {
    "name": "ipython",
    "version": 3
   },
   "file_extension": ".py",
   "mimetype": "text/x-python",
   "name": "python",
   "nbconvert_exporter": "python",
   "pygments_lexer": "ipython3",
   "version": "3.12.7"
  }
 },
 "nbformat": 4,
 "nbformat_minor": 5
}
